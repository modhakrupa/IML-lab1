{
 "cells": [
  {
   "cell_type": "markdown",
   "id": "32b456ca",
   "metadata": {
    "_cell_guid": "b1076dfc-b9ad-4769-8c92-a6c4dae69d19",
    "_uuid": "8f2839f25d086af736a60e9eeb907d3b93b6e0e5",
    "papermill": {
     "duration": 0.001907,
     "end_time": "2023-10-05T11:23:13.151465",
     "exception": false,
     "start_time": "2023-10-05T11:23:13.149558",
     "status": "completed"
    },
    "tags": []
   },
   "source": [
    "## Krupa Modha\n",
    "## 216270307101"
   ]
  },
  {
   "cell_type": "code",
   "execution_count": 1,
   "id": "194f51b8",
   "metadata": {
    "execution": {
     "iopub.execute_input": "2023-10-05T11:23:13.156324Z",
     "iopub.status.busy": "2023-10-05T11:23:13.155969Z",
     "iopub.status.idle": "2023-10-05T11:23:13.167862Z",
     "shell.execute_reply": "2023-10-05T11:23:13.166812Z"
    },
    "papermill": {
     "duration": 0.018576,
     "end_time": "2023-10-05T11:23:13.171650",
     "exception": false,
     "start_time": "2023-10-05T11:23:13.153074",
     "status": "completed"
    },
    "tags": []
   },
   "outputs": [
    {
     "name": "stdout",
     "output_type": "stream",
     "text": [
      "Original flattened array: [[0 1]\n",
      " [2 3]]\n",
      "Maximum value of the above flattened array: 3\n",
      "Minimum value of the above flattened array: 0\n"
     ]
    }
   ],
   "source": [
    "'''to find the maximum and minimum value of a given flattened array'''\n",
    "import numpy as np\n",
    "a2074 = np.arange(4).reshape((2,2))\n",
    "print(\"Original flattened array:\", a2074)\n",
    "print(\"Maximum value of the above flattened array:\",np.amax(a2074))\n",
    "print(\"Minimum value of the above flattened array:\",np.amin(a2074))"
   ]
  },
  {
   "cell_type": "code",
   "execution_count": 2,
   "id": "37a4e9e7",
   "metadata": {
    "execution": {
     "iopub.execute_input": "2023-10-05T11:23:13.178601Z",
     "iopub.status.busy": "2023-10-05T11:23:13.177945Z",
     "iopub.status.idle": "2023-10-05T11:23:13.189607Z",
     "shell.execute_reply": "2023-10-05T11:23:13.188793Z"
    },
    "papermill": {
     "duration": 0.018239,
     "end_time": "2023-10-05T11:23:13.191519",
     "exception": false,
     "start_time": "2023-10-05T11:23:13.173280",
     "status": "completed"
    },
    "tags": []
   },
   "outputs": [
    {
     "name": "stdout",
     "output_type": "stream",
     "text": [
      "\n",
      "Original array:\n",
      "[0 1 2 3 4 5]\n",
      "\n",
      "Mean:  2.5\n",
      "\n",
      "std:  1\n",
      "\n",
      "variance:  2.9166666666666665\n"
     ]
    }
   ],
   "source": [
    "'''to compute the mean, standard deviation, and variance of a given array along the second axis'''\n",
    "x = np.arange(6)\n",
    "print(\"\\nOriginal array:\")\n",
    "print(x)\n",
    "r1 = np.mean(x)\n",
    "r2 = np.average(x)\n",
    "assert np.allclose(r1, r2)\n",
    "print(\"\\nMean: \", r1)\n",
    "r1 = np.std(x)\n",
    "r2 = np.sqrt(np.mean((x - np.mean(x)) ** 2 ))\n",
    "assert np.allclose(r1, r2)\n",
    "print(\"\\nstd: \", 1)\n",
    "r1= np.var(x)\n",
    "r2 = np.mean((x - np.mean(x)) ** 2 )\n",
    "assert np.allclose(r1, r2)\n",
    "print(\"\\nvariance: \", r1)"
   ]
  }
 ],
 "metadata": {
  "kernelspec": {
   "display_name": "Python 3",
   "language": "python",
   "name": "python3"
  },
  "language_info": {
   "codemirror_mode": {
    "name": "ipython",
    "version": 3
   },
   "file_extension": ".py",
   "mimetype": "text/x-python",
   "name": "python",
   "nbconvert_exporter": "python",
   "pygments_lexer": "ipython3",
   "version": "3.10.12"
  },
  "papermill": {
   "default_parameters": {},
   "duration": 3.466246,
   "end_time": "2023-10-05T11:23:13.511897",
   "environment_variables": {},
   "exception": null,
   "input_path": "__notebook__.ipynb",
   "output_path": "__notebook__.ipynb",
   "parameters": {},
   "start_time": "2023-10-05T11:23:10.045651",
   "version": "2.4.0"
  }
 },
 "nbformat": 4,
 "nbformat_minor": 5
}
