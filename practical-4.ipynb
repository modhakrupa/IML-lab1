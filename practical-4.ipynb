{
 "cells": [
  {
   "cell_type": "markdown",
   "id": "d3386847",
   "metadata": {
    "_cell_guid": "b1076dfc-b9ad-4769-8c92-a6c4dae69d19",
    "_uuid": "8f2839f25d086af736a60e9eeb907d3b93b6e0e5",
    "papermill": {
     "duration": 0.002296,
     "end_time": "2023-10-05T11:06:42.865271",
     "exception": false,
     "start_time": "2023-10-05T11:06:42.862975",
     "status": "completed"
    },
    "tags": []
   },
   "source": [
    "## Krupa Modha\n",
    "## 216270307101"
   ]
  },
  {
   "cell_type": "code",
   "execution_count": 1,
   "id": "fd1967d6",
   "metadata": {
    "execution": {
     "iopub.execute_input": "2023-10-05T11:06:42.871978Z",
     "iopub.status.busy": "2023-10-05T11:06:42.871174Z",
     "iopub.status.idle": "2023-10-05T11:06:42.892680Z",
     "shell.execute_reply": "2023-10-05T11:06:42.890997Z"
    },
    "papermill": {
     "duration": 0.027957,
     "end_time": "2023-10-05T11:06:42.895393",
     "exception": false,
     "start_time": "2023-10-05T11:06:42.867436",
     "status": "completed"
    },
    "tags": []
   },
   "outputs": [
    {
     "name": "stdout",
     "output_type": "stream",
     "text": [
      "Array before adding: [1 2 3 4 5 6]\n",
      "Array after adding: [3 4 5 6 7 8]\n",
      "Array after subtract: [2.5 3.5 4.5 5.5 6.5 7.5]\n",
      "Array after multiply: [ 3.75  5.25  6.75  8.25  9.75 11.25]\n",
      "Array after divide: [2.5 3.5 4.5 5.5 6.5 7.5]\n"
     ]
    }
   ],
   "source": [
    "'''to add, subtract, multiply, divide arguments element-wise'''\n",
    "import numpy as np\n",
    "a2074=np.array([1,2,3,4,5,6])\n",
    "print(\"Array before adding:\",a2074)\n",
    "b2074=np.add(a2074,2)\n",
    "print(\"Array after adding:\",b2074)\n",
    "c2074=np.subtract(b2074,0.5)\n",
    "print(\"Array after subtract:\",c2074)\n",
    "d2074=np.multiply(c2074,1.5)\n",
    "print(\"Array after multiply:\",d2074)\n",
    "e2074=np.divide(d2074,1.5)\n",
    "print(\"Array after divide:\",e2074)"
   ]
  },
  {
   "cell_type": "code",
   "execution_count": 2,
   "id": "97dc31a6",
   "metadata": {
    "execution": {
     "iopub.execute_input": "2023-10-05T11:06:42.900982Z",
     "iopub.status.busy": "2023-10-05T11:06:42.900590Z",
     "iopub.status.idle": "2023-10-05T11:06:42.907001Z",
     "shell.execute_reply": "2023-10-05T11:06:42.905899Z"
    },
    "papermill": {
     "duration": 0.012416,
     "end_time": "2023-10-05T11:06:42.909872",
     "exception": false,
     "start_time": "2023-10-05T11:06:42.897456",
     "status": "completed"
    },
    "tags": []
   },
   "outputs": [
    {
     "name": "stdout",
     "output_type": "stream",
     "text": [
      "[1. 0. 2.]\n",
      "[1. 2.]\n",
      "[1. 2.]\n"
     ]
    }
   ],
   "source": [
    "'''to round elements of the array to the nearest integer'''\n",
    "print(np.round([1.2,.3,1.9]))\n",
    "print(np.around([1.4,1.9]))\n",
    "print(np.rint([1.2,1.9]))"
   ]
  },
  {
   "cell_type": "code",
   "execution_count": 3,
   "id": "6b4fa2c6",
   "metadata": {
    "execution": {
     "iopub.execute_input": "2023-10-05T11:06:42.917754Z",
     "iopub.status.busy": "2023-10-05T11:06:42.917303Z",
     "iopub.status.idle": "2023-10-05T11:06:42.925370Z",
     "shell.execute_reply": "2023-10-05T11:06:42.924208Z"
    },
    "papermill": {
     "duration": 0.015393,
     "end_time": "2023-10-05T11:06:42.928601",
     "exception": false,
     "start_time": "2023-10-05T11:06:42.913208",
     "status": "completed"
    },
    "tags": []
   },
   "outputs": [
    {
     "name": "stdout",
     "output_type": "stream",
     "text": [
      "before calculate [[10 10]\n",
      " [20 30]]\n",
      "[10. 25.]\n",
      "[15. 20.]\n"
     ]
    }
   ],
   "source": [
    "'''to calculate mean across dimension, in a 2D numpy array'''\n",
    "f7074=np.array(([10,10],[20,30])) \n",
    "print(\"before calculate\",f7074)\n",
    "print(np.mean(f7074,axis=1))\n",
    "print(np.mean(f7074,axis=0))"
   ]
  },
  {
   "cell_type": "code",
   "execution_count": 4,
   "id": "838630ad",
   "metadata": {
    "execution": {
     "iopub.execute_input": "2023-10-05T11:06:42.934569Z",
     "iopub.status.busy": "2023-10-05T11:06:42.934230Z",
     "iopub.status.idle": "2023-10-05T11:06:42.940278Z",
     "shell.execute_reply": "2023-10-05T11:06:42.939146Z"
    },
    "papermill": {
     "duration": 0.012165,
     "end_time": "2023-10-05T11:06:42.942946",
     "exception": false,
     "start_time": "2023-10-05T11:06:42.930781",
     "status": "completed"
    },
    "tags": []
   },
   "outputs": [
    {
     "name": "stdout",
     "output_type": "stream",
     "text": [
      "[2 0 6 2 7 0 3 0 7 0 7 4]\n"
     ]
    }
   ],
   "source": [
    "'''to calculate the difference between neighboring elements, element-wise of a given array'''\n",
    "h7074=np.array([1,3,3,9,11,18,18,21,21,28,28,35,39])\n",
    "print(np.diff(h7074))"
   ]
  }
 ],
 "metadata": {
  "kernelspec": {
   "display_name": "Python 3",
   "language": "python",
   "name": "python3"
  },
  "language_info": {
   "codemirror_mode": {
    "name": "ipython",
    "version": 3
   },
   "file_extension": ".py",
   "mimetype": "text/x-python",
   "name": "python",
   "nbconvert_exporter": "python",
   "pygments_lexer": "ipython3",
   "version": "3.10.12"
  },
  "papermill": {
   "default_parameters": {},
   "duration": 3.798261,
   "end_time": "2023-10-05T11:06:43.363981",
   "environment_variables": {},
   "exception": null,
   "input_path": "__notebook__.ipynb",
   "output_path": "__notebook__.ipynb",
   "parameters": {},
   "start_time": "2023-10-05T11:06:39.565720",
   "version": "2.4.0"
  }
 },
 "nbformat": 4,
 "nbformat_minor": 5
}
