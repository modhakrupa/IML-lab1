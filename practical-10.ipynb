{
 "cells": [
  {
   "cell_type": "markdown",
   "id": "f5c6e0c3",
   "metadata": {
    "_cell_guid": "b1076dfc-b9ad-4769-8c92-a6c4dae69d19",
    "_uuid": "8f2839f25d086af736a60e9eeb907d3b93b6e0e5",
    "papermill": {
     "duration": 0.003286,
     "end_time": "2023-11-08T09:37:19.548328",
     "exception": false,
     "start_time": "2023-11-08T09:37:19.545042",
     "status": "completed"
    },
    "tags": []
   },
   "source": [
    "## Krupa Modha\n",
    "## 216270307101"
   ]
  },
  {
   "cell_type": "code",
   "execution_count": 1,
   "id": "2170c2f8",
   "metadata": {
    "execution": {
     "iopub.execute_input": "2023-11-08T09:37:19.556761Z",
     "iopub.status.busy": "2023-11-08T09:37:19.555823Z",
     "iopub.status.idle": "2023-11-08T09:37:20.011134Z",
     "shell.execute_reply": "2023-11-08T09:37:20.010031Z"
    },
    "papermill": {
     "duration": 0.462774,
     "end_time": "2023-11-08T09:37:20.014094",
     "exception": false,
     "start_time": "2023-11-08T09:37:19.551320",
     "status": "completed"
    },
    "tags": []
   },
   "outputs": [
    {
     "name": "stdout",
     "output_type": "stream",
     "text": [
      "Before Removing Missing Values \n",
      "        name            toy       born\n",
      "0   Superman            NaN        NaT\n",
      "1     Batman      Batmobile 1956-06-26\n",
      "2  Spiderman  Spiderman toy        NaT\n",
      "\n",
      "After Removing Missing Values \n",
      "     name        toy       born\n",
      "1  Batman  Batmobile 1956-06-26\n"
     ]
    }
   ],
   "source": [
    "import pandas as pd\n",
    "import numpy as np\n",
    "\n",
    "# Dictionary\n",
    "data = {\n",
    "    \"name\": ['Superman', 'Batman', 'Spiderman'],\n",
    "    \"toy\": [np.nan, 'Batmobile', 'Spiderman toy'],\n",
    "    \"born\": [np.nan, pd.Timestamp(\"1956-06-26\"), pd.NaT]\n",
    "}\n",
    "\n",
    "# Converting into DataFrame\n",
    "df = pd.DataFrame(data)\n",
    "\n",
    "# Before Remove Missing values \n",
    "print(\"Before Removing Missing Values \")\n",
    "print(df)\n",
    "\n",
    "# After Removing Missing Values \n",
    "print(\"\\nAfter Removing Missing Values \")\n",
    "print(df.dropna())"
   ]
  },
  {
   "cell_type": "code",
   "execution_count": 2,
   "id": "e8369cde",
   "metadata": {
    "execution": {
     "iopub.execute_input": "2023-11-08T09:37:20.021743Z",
     "iopub.status.busy": "2023-11-08T09:37:20.021136Z",
     "iopub.status.idle": "2023-11-08T09:37:20.026026Z",
     "shell.execute_reply": "2023-11-08T09:37:20.024908Z"
    },
    "papermill": {
     "duration": 0.011482,
     "end_time": "2023-11-08T09:37:20.028384",
     "exception": false,
     "start_time": "2023-11-08T09:37:20.016902",
     "status": "completed"
    },
    "tags": []
   },
   "outputs": [],
   "source": [
    "#to remove the duplicates from the given dataset.\n"
   ]
  },
  {
   "cell_type": "code",
   "execution_count": 3,
   "id": "8cdef059",
   "metadata": {
    "execution": {
     "iopub.execute_input": "2023-11-08T09:37:20.036736Z",
     "iopub.status.busy": "2023-11-08T09:37:20.035840Z",
     "iopub.status.idle": "2023-11-08T09:37:20.056313Z",
     "shell.execute_reply": "2023-11-08T09:37:20.054921Z"
    },
    "papermill": {
     "duration": 0.02823,
     "end_time": "2023-11-08T09:37:20.059709",
     "exception": false,
     "start_time": "2023-11-08T09:37:20.031479",
     "status": "completed"
    },
    "tags": []
   },
   "outputs": [
    {
     "name": "stdout",
     "output_type": "stream",
     "text": [
      "Before Removing Duplicate Values \n",
      "     Name     ID\n",
      "0   Krupa  101.0\n",
      "1   Bhumi  100.0\n",
      "2     NaN   99.0\n",
      "3   Nikki   98.0\n",
      "4  Bhakti    NaN\n",
      "\n",
      "After Removing Duplicate Values \n",
      "     Name     ID\n",
      "0   Krupa  101.0\n",
      "1   Bhumi  100.0\n",
      "2     NaN   99.0\n",
      "3   Nikki   98.0\n",
      "4  Bhakti    NaN\n"
     ]
    }
   ],
   "source": [
    "import pandas as pd\n",
    "import numpy as np\n",
    "\n",
    "# Dictionary\n",
    "data = {\n",
    "    'Name': ['Krupa', 'Bhumi', np.nan, 'Nikki', 'Bhakti'],\n",
    "    'ID': [101, 100, 99, 98, np.nan]\n",
    "}\n",
    "\n",
    "# Converting into DataFrame\n",
    "df = pd.DataFrame(data)\n",
    "\n",
    "# Before Remove Duplicate values\n",
    "print(\"Before Removing Duplicate Values \")\n",
    "print(df)\n",
    "\n",
    "# After Removing Duplicate Values\n",
    "print(\"\\nAfter Removing Duplicate Values \"),\n",
    "print(df.drop_duplicates('Name'))"
   ]
  },
  {
   "cell_type": "code",
   "execution_count": null,
   "id": "240e777b",
   "metadata": {
    "papermill": {
     "duration": 0.002608,
     "end_time": "2023-11-08T09:37:20.065321",
     "exception": false,
     "start_time": "2023-11-08T09:37:20.062713",
     "status": "completed"
    },
    "tags": []
   },
   "outputs": [],
   "source": []
  }
 ],
 "metadata": {
  "kernelspec": {
   "display_name": "Python 3",
   "language": "python",
   "name": "python3"
  },
  "language_info": {
   "codemirror_mode": {
    "name": "ipython",
    "version": 3
   },
   "file_extension": ".py",
   "mimetype": "text/x-python",
   "name": "python",
   "nbconvert_exporter": "python",
   "pygments_lexer": "ipython3",
   "version": "3.10.12"
  },
  "papermill": {
   "default_parameters": {},
   "duration": 4.774234,
   "end_time": "2023-11-08T09:37:20.590128",
   "environment_variables": {},
   "exception": null,
   "input_path": "__notebook__.ipynb",
   "output_path": "__notebook__.ipynb",
   "parameters": {},
   "start_time": "2023-11-08T09:37:15.815894",
   "version": "2.4.0"
  }
 },
 "nbformat": 4,
 "nbformat_minor": 5
}
