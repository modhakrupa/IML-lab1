{
 "cells": [
  {
   "cell_type": "markdown",
   "id": "faffb952",
   "metadata": {
    "_cell_guid": "b1076dfc-b9ad-4769-8c92-a6c4dae69d19",
    "_uuid": "8f2839f25d086af736a60e9eeb907d3b93b6e0e5",
    "papermill": {
     "duration": 0.002847,
     "end_time": "2023-11-08T07:42:27.662149",
     "exception": false,
     "start_time": "2023-11-08T07:42:27.659302",
     "status": "completed"
    },
    "tags": []
   },
   "source": [
    "## Krupa Modha\n",
    "## 216270307101\n"
   ]
  },
  {
   "cell_type": "code",
   "execution_count": 1,
   "id": "b8d495e1",
   "metadata": {
    "execution": {
     "iopub.execute_input": "2023-11-08T07:42:27.669526Z",
     "iopub.status.busy": "2023-11-08T07:42:27.669138Z",
     "iopub.status.idle": "2023-11-08T07:42:28.049692Z",
     "shell.execute_reply": "2023-11-08T07:42:28.048587Z"
    },
    "papermill": {
     "duration": 0.387166,
     "end_time": "2023-11-08T07:42:28.052058",
     "exception": false,
     "start_time": "2023-11-08T07:42:27.664892",
     "status": "completed"
    },
    "tags": []
   },
   "outputs": [
    {
     "name": "stdout",
     "output_type": "stream",
     "text": [
      "Array: [5 4 3 2 1]\n",
      "Series: 0    5\n",
      "1    4\n",
      "2    3\n",
      "3    2\n",
      "4    1\n",
      "dtype: int64\n"
     ]
    }
   ],
   "source": [
    "#1 to convert a NumPy array to a Pandas series\n",
    "import pandas as pd\n",
    "import numpy as np\n",
    "a7074=np.array([5,4,3,2,1])\n",
    "print('Array:',a7074)\n",
    "b2074= pd.Series(a7074)\n",
    "print('Series:',b2074)"
   ]
  },
  {
   "cell_type": "code",
   "execution_count": 2,
   "id": "5aa2af7c",
   "metadata": {
    "execution": {
     "iopub.execute_input": "2023-11-08T07:42:28.059168Z",
     "iopub.status.busy": "2023-11-08T07:42:28.058161Z",
     "iopub.status.idle": "2023-11-08T07:42:28.074025Z",
     "shell.execute_reply": "2023-11-08T07:42:28.072919Z"
    },
    "papermill": {
     "duration": 0.021638,
     "end_time": "2023-11-08T07:42:28.076363",
     "exception": false,
     "start_time": "2023-11-08T07:42:28.054725",
     "status": "completed"
    },
    "tags": []
   },
   "outputs": [
    {
     "name": "stdout",
     "output_type": "stream",
     "text": [
      "   number   color\n",
      "0       1     red\n",
      "1       2    blue\n",
      "2       3   green\n",
      "3       4  orange\n",
      "First Column: 0    1\n",
      "1    2\n",
      "2    3\n",
      "3    4\n",
      "Name: number, dtype: int64\n"
     ]
    }
   ],
   "source": [
    "#2 to convert the first column of a DataFrame as a Series\n",
    "c2074=pd.DataFrame({'number':[1,2,3,4],'color':['red','blue','green','orange']})\n",
    "print(c2074)\n",
    "d2074=c2074['number']\n",
    "print('First Column:',d2074)"
   ]
  },
  {
   "cell_type": "code",
   "execution_count": 3,
   "id": "b3240b84",
   "metadata": {
    "execution": {
     "iopub.execute_input": "2023-11-08T07:42:28.083727Z",
     "iopub.status.busy": "2023-11-08T07:42:28.082643Z",
     "iopub.status.idle": "2023-11-08T07:42:28.091127Z",
     "shell.execute_reply": "2023-11-08T07:42:28.090365Z"
    },
    "papermill": {
     "duration": 0.014404,
     "end_time": "2023-11-08T07:42:28.093316",
     "exception": false,
     "start_time": "2023-11-08T07:42:28.078912",
     "status": "completed"
    },
    "tags": []
   },
   "outputs": [
    {
     "name": "stdout",
     "output_type": "stream",
     "text": [
      "Series: 0    12\n",
      "1    23\n",
      "2    35\n",
      "3    24\n",
      "4    55\n",
      "5    86\n",
      "6    57\n",
      "7    18\n",
      "8    49\n",
      "9    14\n",
      "dtype: int64\n",
      "Mean: 37.3\n",
      "Standard Deviation: 23.926043458030325\n"
     ]
    }
   ],
   "source": [
    "#3 to create the mean and standard deviation of the data of a given Series\n",
    "e2074=pd.Series([12,23,35,24,55,86,57,18,49,14])\n",
    "print('Series:',e2074)\n",
    "f2074=print('Mean:',e2074.mean())\n",
    "g2074=print('Standard Deviation:',e2074.std())"
   ]
  },
  {
   "cell_type": "code",
   "execution_count": 4,
   "id": "8c0bfdb4",
   "metadata": {
    "execution": {
     "iopub.execute_input": "2023-11-08T07:42:28.099559Z",
     "iopub.status.busy": "2023-11-08T07:42:28.099215Z",
     "iopub.status.idle": "2023-11-08T07:42:28.108715Z",
     "shell.execute_reply": "2023-11-08T07:42:28.107602Z"
    },
    "papermill": {
     "duration": 0.014895,
     "end_time": "2023-11-08T07:42:28.110709",
     "exception": false,
     "start_time": "2023-11-08T07:42:28.095814",
     "status": "completed"
    },
    "tags": []
   },
   "outputs": [
    {
     "name": "stdout",
     "output_type": "stream",
     "text": [
      "Ascending-Order: 0    12\n",
      "9    14\n",
      "7    18\n",
      "1    23\n",
      "3    24\n",
      "2    35\n",
      "8    49\n",
      "4    55\n",
      "6    57\n",
      "5    86\n",
      "dtype: int64\n",
      "Descending-Order: 5    86\n",
      "6    57\n",
      "4    55\n",
      "8    49\n",
      "2    35\n",
      "3    24\n",
      "1    23\n",
      "7    18\n",
      "9    14\n",
      "0    12\n",
      "dtype: int64\n"
     ]
    }
   ],
   "source": [
    "#4 to sort a given Series\n",
    "h2074=print(\"Ascending-Order:\",e2074.sort_values(ascending=True))\n",
    "i2074=print(\"Descending-Order:\",e2074.sort_values(ascending = False))"
   ]
  },
  {
   "cell_type": "code",
   "execution_count": null,
   "id": "b7383c2b",
   "metadata": {
    "papermill": {
     "duration": 0.002339,
     "end_time": "2023-11-08T07:42:28.115576",
     "exception": false,
     "start_time": "2023-11-08T07:42:28.113237",
     "status": "completed"
    },
    "tags": []
   },
   "outputs": [],
   "source": []
  }
 ],
 "metadata": {
  "kernelspec": {
   "display_name": "Python 3",
   "language": "python",
   "name": "python3"
  },
  "language_info": {
   "codemirror_mode": {
    "name": "ipython",
    "version": 3
   },
   "file_extension": ".py",
   "mimetype": "text/x-python",
   "name": "python",
   "nbconvert_exporter": "python",
   "pygments_lexer": "ipython3",
   "version": "3.10.12"
  },
  "papermill": {
   "default_parameters": {},
   "duration": 4.106804,
   "end_time": "2023-11-08T07:42:28.537621",
   "environment_variables": {},
   "exception": null,
   "input_path": "__notebook__.ipynb",
   "output_path": "__notebook__.ipynb",
   "parameters": {},
   "start_time": "2023-11-08T07:42:24.430817",
   "version": "2.4.0"
  }
 },
 "nbformat": 4,
 "nbformat_minor": 5
}
