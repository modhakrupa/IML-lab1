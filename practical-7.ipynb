{
 "cells": [
  {
   "cell_type": "markdown",
   "id": "2e01c18d",
   "metadata": {
    "_cell_guid": "b1076dfc-b9ad-4769-8c92-a6c4dae69d19",
    "_uuid": "8f2839f25d086af736a60e9eeb907d3b93b6e0e5",
    "papermill": {
     "duration": 0.003396,
     "end_time": "2023-11-08T07:51:40.958467",
     "exception": false,
     "start_time": "2023-11-08T07:51:40.955071",
     "status": "completed"
    },
    "tags": []
   },
   "source": [
    "## Krupa Modha\n",
    "## 216270307101"
   ]
  },
  {
   "cell_type": "code",
   "execution_count": 1,
   "id": "3b358e15",
   "metadata": {
    "execution": {
     "iopub.execute_input": "2023-11-08T07:51:40.966868Z",
     "iopub.status.busy": "2023-11-08T07:51:40.966444Z",
     "iopub.status.idle": "2023-11-08T07:51:41.411481Z",
     "shell.execute_reply": "2023-11-08T07:51:41.410436Z"
    },
    "papermill": {
     "duration": 0.452189,
     "end_time": "2023-11-08T07:51:41.414130",
     "exception": false,
     "start_time": "2023-11-08T07:51:40.961941",
     "status": "completed"
    },
    "tags": []
   },
   "outputs": [
    {
     "name": "stdout",
     "output_type": "stream",
     "text": [
      "     Name  Age    Enrollment\n",
      "0   Krupa   18  216270307101\n",
      "1   Bhumi   17  216270307100\n",
      "2  Nikita   18  216270307099\n"
     ]
    }
   ],
   "source": [
    "#to create a dataframe from a dictionary and display it\n",
    "import pandas as pd\n",
    "import numpy as np\n",
    "details = { 'Name' : ['Krupa', 'Bhumi', 'Nikita'],\n",
    "'Age' : [18, 17, 18],\n",
    "'Enrollment' : [216270307101, 216270307100, 216270307099] } \n",
    "print(pd.DataFrame(details, columns = ['Name', 'Age', 'Enrollment']))"
   ]
  },
  {
   "cell_type": "code",
   "execution_count": 2,
   "id": "716e9ead",
   "metadata": {
    "execution": {
     "iopub.execute_input": "2023-11-08T07:51:41.422803Z",
     "iopub.status.busy": "2023-11-08T07:51:41.422245Z",
     "iopub.status.idle": "2023-11-08T07:51:41.438941Z",
     "shell.execute_reply": "2023-11-08T07:51:41.437790Z"
    },
    "papermill": {
     "duration": 0.024641,
     "end_time": "2023-11-08T07:51:41.442263",
     "exception": false,
     "start_time": "2023-11-08T07:51:41.417622",
     "status": "completed"
    },
    "tags": []
   },
   "outputs": [
    {
     "name": "stdout",
     "output_type": "stream",
     "text": [
      "     Name  Age    Enrollment\n",
      "1   Bhumi   17  216270307100\n",
      "0   Krupa   18  216270307101\n",
      "2  Nikita   18  216270307099\n"
     ]
    }
   ],
   "source": [
    "#to sort the DataFrame first by 'name' in ascending order\n",
    "import numpy as np\n",
    "import pandas as pd\n",
    "details = { 'Name' : ['Krupa', 'Bhumi', 'Nikita'],\n",
    "'Age' : [18, 17, 18],\n",
    "'Enrollment' : [216270307101, 216270307100, 216270307099] }\n",
    "print(pd.DataFrame(details, columns = ['Name', 'Age','Enrollment']).sort_values(by = ['Name']))"
   ]
  },
  {
   "cell_type": "code",
   "execution_count": 3,
   "id": "abf6506b",
   "metadata": {
    "execution": {
     "iopub.execute_input": "2023-11-08T07:51:41.450281Z",
     "iopub.status.busy": "2023-11-08T07:51:41.449849Z",
     "iopub.status.idle": "2023-11-08T07:51:41.461327Z",
     "shell.execute_reply": "2023-11-08T07:51:41.459797Z"
    },
    "papermill": {
     "duration": 0.018987,
     "end_time": "2023-11-08T07:51:41.464408",
     "exception": false,
     "start_time": "2023-11-08T07:51:41.445421",
     "status": "completed"
    },
    "tags": []
   },
   "outputs": [
    {
     "name": "stdout",
     "output_type": "stream",
     "text": [
      "     Name  Age    Enrollment\n",
      "1   Bhumi   17  216270307100\n",
      "0   Krupa   18  216270307101\n",
      "2  Nikita   18  216270307099\n"
     ]
    }
   ],
   "source": [
    "#to delete the one specific column from the DataFrame\n",
    "import numpy as np \n",
    "import pandas as pd\n",
    "details = { 'Name' : ['Krupa', 'Bhumi', 'Nikita'],\n",
    "'Age' : [18, 17, 18],\n",
    "'Enrollment' : [216270307101, 216270307100, 216270307099] }\n",
    "print(pd.DataFrame(details, columns = ['Name', 'Age','Enrollment']).sort_values(by = ['Name']))"
   ]
  },
  {
   "cell_type": "code",
   "execution_count": 4,
   "id": "ed44f880",
   "metadata": {
    "execution": {
     "iopub.execute_input": "2023-11-08T07:51:41.472737Z",
     "iopub.status.busy": "2023-11-08T07:51:41.472321Z",
     "iopub.status.idle": "2023-11-08T07:51:41.484885Z",
     "shell.execute_reply": "2023-11-08T07:51:41.483956Z"
    },
    "papermill": {
     "duration": 0.019644,
     "end_time": "2023-11-08T07:51:41.487485",
     "exception": false,
     "start_time": "2023-11-08T07:51:41.467841",
     "status": "completed"
    },
    "tags": []
   },
   "outputs": [],
   "source": [
    "#to write a DataFrame to CSV file using tab separator\n",
    "import pandas as pd\n",
    "import numpy as np\n",
    "details = { 'Name' : ['Krupa', 'Bhumi', 'Nikita'],\n",
    "'Age' : [18, 17, 18],\n",
    "'Enrollment' : [216270307101, 216270307100, 216270307099] } \n",
    "data_frame = pd.DataFrame(details, columns = ['Name', 'Age', 'Enrollment'])\n",
    "data_frame.to_csv('Details.csv', sep = '\\t')\n",
    "# Saving as a CSV file new_data_frame = pd.read_csv('Details.csv')\n",
    "# loading the CSV file print('\\nData from Students.csv : \\n', new_data_frame)"
   ]
  },
  {
   "cell_type": "code",
   "execution_count": null,
   "id": "37d7bb1d",
   "metadata": {
    "papermill": {
     "duration": 0.002996,
     "end_time": "2023-11-08T07:51:41.493797",
     "exception": false,
     "start_time": "2023-11-08T07:51:41.490801",
     "status": "completed"
    },
    "tags": []
   },
   "outputs": [],
   "source": []
  }
 ],
 "metadata": {
  "kernelspec": {
   "display_name": "Python 3",
   "language": "python",
   "name": "python3"
  },
  "language_info": {
   "codemirror_mode": {
    "name": "ipython",
    "version": 3
   },
   "file_extension": ".py",
   "mimetype": "text/x-python",
   "name": "python",
   "nbconvert_exporter": "python",
   "pygments_lexer": "ipython3",
   "version": "3.10.12"
  },
  "papermill": {
   "default_parameters": {},
   "duration": 4.757884,
   "end_time": "2023-11-08T07:51:42.017743",
   "environment_variables": {},
   "exception": null,
   "input_path": "__notebook__.ipynb",
   "output_path": "__notebook__.ipynb",
   "parameters": {},
   "start_time": "2023-11-08T07:51:37.259859",
   "version": "2.4.0"
  }
 },
 "nbformat": 4,
 "nbformat_minor": 5
}
