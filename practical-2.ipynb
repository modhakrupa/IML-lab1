{
 "cells": [
  {
   "cell_type": "markdown",
   "id": "ccea6bed",
   "metadata": {
    "_cell_guid": "b1076dfc-b9ad-4769-8c92-a6c4dae69d19",
    "_uuid": "8f2839f25d086af736a60e9eeb907d3b93b6e0e5",
    "papermill": {
     "duration": 0.002473,
     "end_time": "2023-10-05T11:25:43.466281",
     "exception": false,
     "start_time": "2023-10-05T11:25:43.463808",
     "status": "completed"
    },
    "tags": []
   },
   "source": [
    "## Krupa Modha\n",
    "## 216270307101"
   ]
  },
  {
   "cell_type": "code",
   "execution_count": 1,
   "id": "2556faf2",
   "metadata": {
    "execution": {
     "iopub.execute_input": "2023-10-05T11:25:43.472940Z",
     "iopub.status.busy": "2023-10-05T11:25:43.472163Z",
     "iopub.status.idle": "2023-10-05T11:25:43.484302Z",
     "shell.execute_reply": "2023-10-05T11:25:43.483256Z"
    },
    "papermill": {
     "duration": 0.017784,
     "end_time": "2023-10-05T11:25:43.486280",
     "exception": false,
     "start_time": "2023-10-05T11:25:43.468496",
     "status": "completed"
    },
    "tags": []
   },
   "outputs": [
    {
     "name": "stdout",
     "output_type": "stream",
     "text": [
      "Original List: [2, 0, 7, 4]\n",
      "One-dimensional NumPy array:  2074\n"
     ]
    }
   ],
   "source": [
    "'''to convert a list of numeric values into a one-dimensional NumPy array'''\n",
    "import numpy as np\n",
    "a2074 = [2,0,7,4]\n",
    "print(\"Original List:\",a2074)\n",
    "b2074 = np.array(2074)\n",
    "print(\"One-dimensional NumPy array: \",b2074)"
   ]
  },
  {
   "cell_type": "code",
   "execution_count": 2,
   "id": "fe2351cd",
   "metadata": {
    "execution": {
     "iopub.execute_input": "2023-10-05T11:25:43.491904Z",
     "iopub.status.busy": "2023-10-05T11:25:43.491537Z",
     "iopub.status.idle": "2023-10-05T11:25:43.498838Z",
     "shell.execute_reply": "2023-10-05T11:25:43.497653Z"
    },
    "papermill": {
     "duration": 0.012784,
     "end_time": "2023-10-05T11:25:43.501254",
     "exception": false,
     "start_time": "2023-10-05T11:25:43.488470",
     "status": "completed"
    },
    "tags": []
   },
   "outputs": [
    {
     "name": "stdout",
     "output_type": "stream",
     "text": [
      "[[ 2  3  4]\n",
      " [ 5  6  7]\n",
      " [ 8  9 10]]\n"
     ]
    }
   ],
   "source": [
    "'''to create a 3x3 matrix with values ranging from 2 to 10'''\n",
    "c2074 = np.arange(2, 11).reshape(3,3)\n",
    "print(c2074)"
   ]
  },
  {
   "cell_type": "code",
   "execution_count": 3,
   "id": "5fe7cccc",
   "metadata": {
    "execution": {
     "iopub.execute_input": "2023-10-05T11:25:43.506954Z",
     "iopub.status.busy": "2023-10-05T11:25:43.506573Z",
     "iopub.status.idle": "2023-10-05T11:25:43.512911Z",
     "shell.execute_reply": "2023-10-05T11:25:43.511768Z"
    },
    "papermill": {
     "duration": 0.011385,
     "end_time": "2023-10-05T11:25:43.514877",
     "exception": false,
     "start_time": "2023-10-05T11:25:43.503492",
     "status": "completed"
    },
    "tags": []
   },
   "outputs": [
    {
     "name": "stdout",
     "output_type": "stream",
     "text": [
      "Original array:\n",
      "[2, 0]\n",
      "After append:\n",
      "[2 0 7 4]\n"
     ]
    }
   ],
   "source": [
    "'''to append values at the end of an array'''\n",
    "d2074 = [2,0]\n",
    "print(\"Original array:\")\n",
    "print(d2074)\n",
    "e2074 = np.append(d2074, [[7], [4]])\n",
    "print(\"After append:\")\n",
    "print(e2074)"
   ]
  },
  {
   "cell_type": "code",
   "execution_count": 4,
   "id": "c45e8a99",
   "metadata": {
    "execution": {
     "iopub.execute_input": "2023-10-05T11:25:43.521244Z",
     "iopub.status.busy": "2023-10-05T11:25:43.520381Z",
     "iopub.status.idle": "2023-10-05T11:25:43.527475Z",
     "shell.execute_reply": "2023-10-05T11:25:43.526293Z"
    },
    "papermill": {
     "duration": 0.012249,
     "end_time": "2023-10-05T11:25:43.529399",
     "exception": false,
     "start_time": "2023-10-05T11:25:43.517150",
     "status": "completed"
    },
    "tags": []
   },
   "outputs": [
    {
     "name": "stdout",
     "output_type": "stream",
     "text": [
      "Reshape 3x2:\n",
      "[[2 0]\n",
      " [7 0]\n",
      " [7 4]]\n",
      "Reshape 2x3:\n",
      "[[2 0 7]\n",
      " [0 7 4]]\n"
     ]
    }
   ],
   "source": [
    "'''to create another shape from an array without changing its data (3*2 to 2*3)'''\n",
    "f2074 = np.array([2, 0, 7, 0, 7,4 ])\n",
    "g2074 = np.reshape(f2074,(3,2))\n",
    "print(\"Reshape 3x2:\")\n",
    "print(g2074)\n",
    "h2074 = np.reshape(f2074,(2,3))\n",
    "print(\"Reshape 2x3:\")\n",
    "print(h2074)"
   ]
  },
  {
   "cell_type": "code",
   "execution_count": null,
   "id": "8e61da5a",
   "metadata": {
    "papermill": {
     "duration": 0.002102,
     "end_time": "2023-10-05T11:25:43.533830",
     "exception": false,
     "start_time": "2023-10-05T11:25:43.531728",
     "status": "completed"
    },
    "tags": []
   },
   "outputs": [],
   "source": []
  }
 ],
 "metadata": {
  "kernelspec": {
   "display_name": "Python 3",
   "language": "python",
   "name": "python3"
  },
  "language_info": {
   "codemirror_mode": {
    "name": "ipython",
    "version": 3
   },
   "file_extension": ".py",
   "mimetype": "text/x-python",
   "name": "python",
   "nbconvert_exporter": "python",
   "pygments_lexer": "ipython3",
   "version": "3.10.12"
  },
  "papermill": {
   "default_parameters": {},
   "duration": 3.45755,
   "end_time": "2023-10-05T11:25:43.854741",
   "environment_variables": {},
   "exception": null,
   "input_path": "__notebook__.ipynb",
   "output_path": "__notebook__.ipynb",
   "parameters": {},
   "start_time": "2023-10-05T11:25:40.397191",
   "version": "2.4.0"
  }
 },
 "nbformat": 4,
 "nbformat_minor": 5
}
