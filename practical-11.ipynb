{
 "cells": [
  {
   "cell_type": "markdown",
   "id": "1e9c3939",
   "metadata": {
    "_cell_guid": "b1076dfc-b9ad-4769-8c92-a6c4dae69d19",
    "_uuid": "8f2839f25d086af736a60e9eeb907d3b93b6e0e5",
    "papermill": {
     "duration": 0.002057,
     "end_time": "2023-11-08T08:18:27.707922",
     "exception": false,
     "start_time": "2023-11-08T08:18:27.705865",
     "status": "completed"
    },
    "tags": []
   },
   "source": [
    "## Krupa Modha\n",
    "## 216270307101"
   ]
  },
  {
   "cell_type": "code",
   "execution_count": 1,
   "id": "e6619642",
   "metadata": {
    "execution": {
     "iopub.execute_input": "2023-11-08T08:18:27.712860Z",
     "iopub.status.busy": "2023-11-08T08:18:27.712468Z",
     "iopub.status.idle": "2023-11-08T08:18:28.110167Z",
     "shell.execute_reply": "2023-11-08T08:18:28.108956Z"
    },
    "papermill": {
     "duration": 0.404646,
     "end_time": "2023-11-08T08:18:28.114322",
     "exception": false,
     "start_time": "2023-11-08T08:18:27.709676",
     "status": "completed"
    },
    "tags": []
   },
   "outputs": [
    {
     "name": "stdout",
     "output_type": "stream",
     "text": [
      "\n",
      "Filtered DataFrame with all entries present \n",
      "     Name\n",
      "0   Krupa\n",
      "1   Bhumi\n",
      "2  Nikita\n",
      "3  Bhakti\n",
      "4  Aastha\n",
      "\n",
      "Rows with NaN values \n",
      "     Name  Enroll  Age\n",
      "4  Aastha     NaN  NaN\n",
      "\n",
      "Columns with NaN values \n",
      "Index(['Enroll', 'Age'], dtype='object')\n",
      "\n",
      "Cleaned DataFrame with no NaN values \n",
      "     Name  Enroll   Age\n",
      "0   Krupa   101.0  18.0\n",
      "1   Bhumi   100.0  17.0\n",
      "2  Nikita    99.0  20.0\n",
      "3  Bhakti    98.0  21.0\n"
     ]
    }
   ],
   "source": [
    "import pandas as pd\n",
    "import numpy as np\n",
    "# Creating Data\n",
    "data = { 'Name' : ['Krupa','Bhumi','Nikita','Bhakti','Aastha'],\n",
    "'Enroll' : [101, 100, 99, 98 , np.nan], 'Age' : [18,17,20,21,np.nan] }\n",
    "df = pd.DataFrame(data)\n",
    "filtered_data = df.dropna(axis=1, how='any')\n",
    "# Rows with Nan Values\n",
    "rows_nan = df[df.isnull().any(axis=1)]\n",
    "# Columns with Nan Values\n",
    "columns_nan = df.columns[df.isnull().any()]\n",
    "# Drop Nan Values\n",
    "df_cleaned = df.dropna() \n",
    "print(\"\\nFiltered DataFrame with all entries present \")\n",
    "print(filtered_data) \n",
    "print(\"\\nRows with NaN values \")\n",
    "print(rows_nan)\n",
    "print(\"\\nColumns with NaN values \") \n",
    "print(columns_nan)\n",
    "print(\"\\nCleaned DataFrame with no NaN values \") \n",
    "print(df_cleaned)"
   ]
  },
  {
   "cell_type": "code",
   "execution_count": null,
   "id": "0c3fc48b",
   "metadata": {
    "papermill": {
     "duration": 0.001499,
     "end_time": "2023-11-08T08:18:28.117680",
     "exception": false,
     "start_time": "2023-11-08T08:18:28.116181",
     "status": "completed"
    },
    "tags": []
   },
   "outputs": [],
   "source": []
  }
 ],
 "metadata": {
  "kernelspec": {
   "display_name": "Python 3",
   "language": "python",
   "name": "python3"
  },
  "language_info": {
   "codemirror_mode": {
    "name": "ipython",
    "version": 3
   },
   "file_extension": ".py",
   "mimetype": "text/x-python",
   "name": "python",
   "nbconvert_exporter": "python",
   "pygments_lexer": "ipython3",
   "version": "3.10.12"
  },
  "papermill": {
   "default_parameters": {},
   "duration": 3.998709,
   "end_time": "2023-11-08T08:18:28.539073",
   "environment_variables": {},
   "exception": null,
   "input_path": "__notebook__.ipynb",
   "output_path": "__notebook__.ipynb",
   "parameters": {},
   "start_time": "2023-11-08T08:18:24.540364",
   "version": "2.4.0"
  }
 },
 "nbformat": 4,
 "nbformat_minor": 5
}
