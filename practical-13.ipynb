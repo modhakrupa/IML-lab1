{
 "cells": [
  {
   "cell_type": "markdown",
   "id": "cb644d17",
   "metadata": {
    "_cell_guid": "b1076dfc-b9ad-4769-8c92-a6c4dae69d19",
    "_uuid": "8f2839f25d086af736a60e9eeb907d3b93b6e0e5",
    "papermill": {
     "duration": 0.002515,
     "end_time": "2023-11-08T08:23:24.050043",
     "exception": false,
     "start_time": "2023-11-08T08:23:24.047528",
     "status": "completed"
    },
    "tags": []
   },
   "source": [
    "## Krupa Modha\n",
    "## 216270307101"
   ]
  },
  {
   "cell_type": "code",
   "execution_count": 1,
   "id": "27e3ebee",
   "metadata": {
    "execution": {
     "iopub.execute_input": "2023-11-08T08:23:24.056078Z",
     "iopub.status.busy": "2023-11-08T08:23:24.055683Z",
     "iopub.status.idle": "2023-11-08T08:23:25.932692Z",
     "shell.execute_reply": "2023-11-08T08:23:25.931299Z"
    },
    "papermill": {
     "duration": 1.885384,
     "end_time": "2023-11-08T08:23:25.937567",
     "exception": false,
     "start_time": "2023-11-08T08:23:24.052183",
     "status": "completed"
    },
    "tags": []
   },
   "outputs": [
    {
     "name": "stdout",
     "output_type": "stream",
     "text": [
      "Confusion Matrix:\n",
      "[[16  0  0]\n",
      " [ 0 11  1]\n",
      " [ 0  1 16]]\n",
      "\n",
      "Classification Report:\n",
      "              precision    recall  f1-score   support\n",
      "\n",
      "           0       1.00      1.00      1.00        16\n",
      "           1       0.92      0.92      0.92        12\n",
      "           2       0.94      0.94      0.94        17\n",
      "\n",
      "    accuracy                           0.96        45\n",
      "   macro avg       0.95      0.95      0.95        45\n",
      "weighted avg       0.96      0.96      0.96        45\n",
      "\n"
     ]
    }
   ],
   "source": [
    "from sklearn import datasets\n",
    "from sklearn.model_selection import train_test_split\n",
    "from sklearn.preprocessing import StandardScaler\n",
    "from sklearn.neighbors import KNeighborsClassifier\n",
    "from sklearn.metrics import classification_report, confusion_matrix\n",
    "# Load iris dataset\n",
    "iris = datasets.load_iris()\n",
    "X = iris.data\n",
    "y = iris.target\n",
    "# Split dataset into training set and test set\n",
    "X_train, X_test, y_train, y_test = train_test_split(X, y, test_size=0.3) # 70% training and 30% testing\n",
    "# Feature scaling\n",
    "scaler = StandardScaler()\n",
    "scaler.fit(X_train)\n",
    "X_train = scaler.transform(X_train)\n",
    "X_test = scaler.transform(X_test)\n",
    "# Iniialize the model with k=5\n",
    "k = 5\n",
    "knn = KNeighborsClassifier(n_neighbors=k)\n",
    "# Train the model\n",
    "knn.fit(X_train, y_train)\n",
    "# Predict the response for the test dataset\n",
    "y_pred = knn.predict(X_test)\n",
    "# Print confusion matrix and classification report\n",
    "print(\"Confusion Matrix:\")\n",
    "print(confusion_matrix(y_test, y_pred))\n",
    "print(\"\\nClassification Report:\")\n",
    "print(classification_report(y_test, y_pred))"
   ]
  },
  {
   "cell_type": "code",
   "execution_count": null,
   "id": "aff140ef",
   "metadata": {
    "papermill": {
     "duration": 0.002109,
     "end_time": "2023-11-08T08:23:25.941998",
     "exception": false,
     "start_time": "2023-11-08T08:23:25.939889",
     "status": "completed"
    },
    "tags": []
   },
   "outputs": [],
   "source": []
  }
 ],
 "metadata": {
  "kernelspec": {
   "display_name": "Python 3",
   "language": "python",
   "name": "python3"
  },
  "language_info": {
   "codemirror_mode": {
    "name": "ipython",
    "version": 3
   },
   "file_extension": ".py",
   "mimetype": "text/x-python",
   "name": "python",
   "nbconvert_exporter": "python",
   "pygments_lexer": "ipython3",
   "version": "3.10.12"
  },
  "papermill": {
   "default_parameters": {},
   "duration": 6.148646,
   "end_time": "2023-11-08T08:23:26.467489",
   "environment_variables": {},
   "exception": null,
   "input_path": "__notebook__.ipynb",
   "output_path": "__notebook__.ipynb",
   "parameters": {},
   "start_time": "2023-11-08T08:23:20.318843",
   "version": "2.4.0"
  }
 },
 "nbformat": 4,
 "nbformat_minor": 5
}
