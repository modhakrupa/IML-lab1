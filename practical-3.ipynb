{
 "cells": [
  {
   "cell_type": "markdown",
   "id": "570bd466",
   "metadata": {
    "_cell_guid": "b1076dfc-b9ad-4769-8c92-a6c4dae69d19",
    "_uuid": "8f2839f25d086af736a60e9eeb907d3b93b6e0e5",
    "papermill": {
     "duration": 0.002367,
     "end_time": "2023-10-05T11:24:32.990024",
     "exception": false,
     "start_time": "2023-10-05T11:24:32.987657",
     "status": "completed"
    },
    "tags": []
   },
   "source": [
    "## Krupa Modha\n",
    "## 216270307101"
   ]
  },
  {
   "cell_type": "code",
   "execution_count": 1,
   "id": "1b9c3aaa",
   "metadata": {
    "execution": {
     "iopub.execute_input": "2023-10-05T11:24:32.995218Z",
     "iopub.status.busy": "2023-10-05T11:24:32.994790Z",
     "iopub.status.idle": "2023-10-05T11:24:33.009013Z",
     "shell.execute_reply": "2023-10-05T11:24:33.008125Z"
    },
    "papermill": {
     "duration": 0.019676,
     "end_time": "2023-10-05T11:24:33.011418",
     "exception": false,
     "start_time": "2023-10-05T11:24:32.991742",
     "status": "completed"
    },
    "tags": []
   },
   "outputs": [
    {
     "name": "stdout",
     "output_type": "stream",
     "text": [
      "Original array: [ 1  2  3  4  5  6  7  8  9 10 11 12 13 14]\n",
      "After splitting:\n",
      "[array([1, 2]), array([3, 4, 5, 6]), array([ 7,  8,  9, 10, 11, 12, 13, 14])]\n"
     ]
    }
   ],
   "source": [
    "'''to split an array of 14 elements into 3 arrays, each with 2, 4, and 8 elements in the original order'''\n",
    "import numpy as np\n",
    "a2074 = np.arange(1, 15)\n",
    "print(\"Original array:\",a2074)\n",
    "print(\"After splitting:\")\n",
    "print(np.split(a2074, [2, 6]))"
   ]
  },
  {
   "cell_type": "code",
   "execution_count": 2,
   "id": "9e63cacb",
   "metadata": {
    "execution": {
     "iopub.execute_input": "2023-10-05T11:24:33.015964Z",
     "iopub.status.busy": "2023-10-05T11:24:33.015672Z",
     "iopub.status.idle": "2023-10-05T11:24:33.023460Z",
     "shell.execute_reply": "2023-10-05T11:24:33.022546Z"
    },
    "papermill": {
     "duration": 0.012131,
     "end_time": "2023-10-05T11:24:33.025277",
     "exception": false,
     "start_time": "2023-10-05T11:24:33.013146",
     "status": "completed"
    },
    "tags": []
   },
   "outputs": [
    {
     "data": {
      "text/plain": [
       "array([2, 0, 6, 2, 7, 0, 3, 0, 7, 0, 7, 4])"
      ]
     },
     "execution_count": 2,
     "metadata": {},
     "output_type": "execute_result"
    }
   ],
   "source": [
    "'''to stack arrays horizontally (column wise)'''\n",
    "b2074=np.array((2,0,6,2,7,0))\n",
    "c2074=np.array((3,0,7,0,7,4))\n",
    "np.hstack((b2074,c2074))"
   ]
  },
  {
   "cell_type": "code",
   "execution_count": null,
   "id": "38d3a268",
   "metadata": {
    "papermill": {
     "duration": 0.001555,
     "end_time": "2023-10-05T11:24:33.028695",
     "exception": false,
     "start_time": "2023-10-05T11:24:33.027140",
     "status": "completed"
    },
    "tags": []
   },
   "outputs": [],
   "source": []
  }
 ],
 "metadata": {
  "kernelspec": {
   "display_name": "Python 3",
   "language": "python",
   "name": "python3"
  },
  "language_info": {
   "codemirror_mode": {
    "name": "ipython",
    "version": 3
   },
   "file_extension": ".py",
   "mimetype": "text/x-python",
   "name": "python",
   "nbconvert_exporter": "python",
   "pygments_lexer": "ipython3",
   "version": "3.10.12"
  },
  "papermill": {
   "default_parameters": {},
   "duration": 3.591873,
   "end_time": "2023-10-05T11:24:33.452786",
   "environment_variables": {},
   "exception": null,
   "input_path": "__notebook__.ipynb",
   "output_path": "__notebook__.ipynb",
   "parameters": {},
   "start_time": "2023-10-05T11:24:29.860913",
   "version": "2.4.0"
  }
 },
 "nbformat": 4,
 "nbformat_minor": 5
}
